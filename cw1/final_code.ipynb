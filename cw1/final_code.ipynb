{
 "cells": [
  {
   "cell_type": "code",
   "execution_count": 182,
   "metadata": {},
   "outputs": [],
   "source": [
    "import cv2\n",
    "import numpy as np\n",
    "from pathlib import Path"
   ]
  },
  {
   "cell_type": "code",
   "execution_count": 183,
   "metadata": {},
   "outputs": [],
   "source": [
    "PHOTO_PATH = '6.-Original-Damaged-Image-Woman.jpg'\n",
    "RESULT_FOLDER = \"results/\"\n",
    "\n",
    "ALPHA_VALUE = 1.4\n",
    "SEGMENTATION_MIN = 250\n",
    "INPAINT_RADIUS = 30\n",
    "INPAINT_FLAG = cv2.INPAINT_TELEA"
   ]
  },
  {
   "cell_type": "code",
   "execution_count": 184,
   "metadata": {},
   "outputs": [
    {
     "data": {
      "text/plain": [
       "True"
      ]
     },
     "execution_count": 184,
     "metadata": {},
     "output_type": "execute_result"
    }
   ],
   "source": [
    "img = cv2.imread(PHOTO_PATH, cv2.IMREAD_GRAYSCALE)\n",
    "stretched_image = cv2.normalize(img, None, 0, 230, cv2.NORM_MINMAX)\n",
    "scaled_image = cv2.multiply(stretched_image,ALPHA_VALUE)\n",
    "\n",
    "cv2.imwrite(filename=str(Path().joinpath(RESULT_FOLDER, PHOTO_PATH.replace(\".jpg\", f\"_scale.jpg\"))), \n",
    "            img=scaled_image)\n",
    "\n",
    "__, damage_mask = cv2.threshold(scaled_image, SEGMENTATION_MIN, 255, cv2.THRESH_BINARY)\n",
    "damage_mask = cv2.dilate(damage_mask, np.ones((5,5)))\n",
    "\n",
    "cv2.imwrite(filename=str(Path().joinpath(RESULT_FOLDER, PHOTO_PATH.replace(\".jpg\", f\"_d_mask.jpg\"))), \n",
    "            img=damage_mask)\n",
    "\n",
    "canny_edges = cv2.Canny(scaled_image, threshold1=254, threshold2=255)\n",
    "canny_edges = cv2.dilate(canny_edges, np.ones((4,4)))\n",
    "\n",
    "cv2.imwrite(filename=str(Path().joinpath(RESULT_FOLDER, PHOTO_PATH.replace(\".jpg\", f\"_d_canny.jpg\"))), \n",
    "            img=canny_edges)\n",
    "\n",
    "damage_mask_sum = cv2.bitwise_or(canny_edges, damage_mask)\n",
    "\n",
    "cv2.imwrite(filename=str(Path().joinpath(RESULT_FOLDER, PHOTO_PATH.replace(\".jpg\", f\"_d_mask_sum.jpg\"))), \n",
    "            img=damage_mask_sum)\n",
    "\n",
    "img = cv2.imread(PHOTO_PATH)\n",
    "\n",
    "filling_result = cv2.inpaint(img, damage_mask_sum, inpaintRadius=INPAINT_RADIUS, flags=INPAINT_FLAG)\n",
    "cv2.imwrite(filename=str(Path().joinpath(RESULT_FOLDER, PHOTO_PATH.replace(\".jpg\", \"_filled.jpg\"))), \n",
    "            img=filling_result)\n",
    "\n",
    "blur_result = cv2.GaussianBlur(filling_result, (3,3), 0)\n",
    "sharpened = cv2.addWeighted(src1=blur_result, alpha=ALPHA_VALUE, src2=filling_result, beta=-0.5, gamma=0.2)\n",
    "\n",
    "cv2.imwrite(filename = str(Path().joinpath(RESULT_FOLDER, PHOTO_PATH.replace(\".jpg\", \"_final.jpg\"))), \n",
    "            img=sharpened)"
   ]
  }
 ],
 "metadata": {
  "kernelspec": {
   "display_name": ".venv",
   "language": "python",
   "name": "python3"
  },
  "language_info": {
   "codemirror_mode": {
    "name": "ipython",
    "version": 3
   },
   "file_extension": ".py",
   "mimetype": "text/x-python",
   "name": "python",
   "nbconvert_exporter": "python",
   "pygments_lexer": "ipython3",
   "version": "3.11.3"
  }
 },
 "nbformat": 4,
 "nbformat_minor": 2
}
