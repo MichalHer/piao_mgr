{
 "cells": [
  {
   "cell_type": "markdown",
   "metadata": {},
   "source": [
    "# Importy"
   ]
  },
  {
   "cell_type": "code",
   "execution_count": 16,
   "metadata": {},
   "outputs": [],
   "source": [
    "import cv2\n",
    "import numpy as np\n",
    "from pathlib import Path"
   ]
  },
  {
   "cell_type": "markdown",
   "metadata": {},
   "source": [
    "# Parametry"
   ]
  },
  {
   "cell_type": "code",
   "execution_count": 32,
   "metadata": {},
   "outputs": [],
   "source": [
    "PHOTO_PATH = 'image.jpg'\n",
    "RESULT_FOLDER = \"results/\"\n",
    "BLUR_VALUE = 3"
   ]
  },
  {
   "cell_type": "markdown",
   "metadata": {},
   "source": [
    "# przykład 1"
   ]
  },
  {
   "cell_type": "code",
   "execution_count": 33,
   "metadata": {},
   "outputs": [],
   "source": [
    "img = cv2.imread(PHOTO_PATH)"
   ]
  },
  {
   "cell_type": "code",
   "execution_count": 34,
   "metadata": {},
   "outputs": [
    {
     "data": {
      "text/plain": [
       "True"
      ]
     },
     "execution_count": 34,
     "metadata": {},
     "output_type": "execute_result"
    }
   ],
   "source": [
    "blur_result = cv2.medianBlur(img, BLUR_VALUE)\n",
    "cv2.imwrite(filename = str(Path().joinpath(RESULT_FOLDER, PHOTO_PATH.replace(\".jpg\", \"_blured.jpg\"))), \n",
    "            img=blur_result)\n"
   ]
  },
  {
   "cell_type": "code",
   "execution_count": 28,
   "metadata": {},
   "outputs": [
    {
     "data": {
      "text/plain": [
       "True"
      ]
     },
     "execution_count": 28,
     "metadata": {},
     "output_type": "execute_result"
    }
   ],
   "source": [
    "mask = cv2.inRange(img, np.array([0,0,0]), np.array([10,10,10]))\n",
    "filling_result = cv2.inpaint(img, mask, 15, cv2.INPAINT_NS)\n",
    "cv2.imwrite(filename=str(Path().joinpath(RESULT_FOLDER, PHOTO_PATH.replace(\".jpg\", \"_filled.jpg\"))), \n",
    "            img=filling_result)"
   ]
  },
  {
   "cell_type": "markdown",
   "metadata": {},
   "source": [
    "# przykład 2"
   ]
  },
  {
   "cell_type": "code",
   "execution_count": 6,
   "metadata": {},
   "outputs": [
    {
     "data": {
      "text/plain": [
       "True"
      ]
     },
     "execution_count": 6,
     "metadata": {},
     "output_type": "execute_result"
    }
   ],
   "source": [
    "canny_edges = cv2.Canny(img, threshold1=225, threshold2=225)\n",
    "cv2.imwrite(filename=str(Path().joinpath(RESULT_FOLDER, PHOTO_PATH.replace(\".jpg\", f\"_canny.jpg\"))), \n",
    "            img=canny_edges)"
   ]
  },
  {
   "cell_type": "code",
   "execution_count": 41,
   "metadata": {},
   "outputs": [
    {
     "data": {
      "text/plain": [
       "True"
      ]
     },
     "execution_count": 41,
     "metadata": {},
     "output_type": "execute_result"
    }
   ],
   "source": [
    "img = cv2.imread(PHOTO_PATH, cv2.IMREAD_GRAYSCALE)\n",
    "__, global_thresholded = cv2.threshold(img, 175, 255, cv2.THRESH_BINARY)\n",
    "# global_thresholded = cv2.bitwise_not(global_thresholded)\n",
    "cv2.imwrite(filename=str(Path().joinpath(RESULT_FOLDER, PHOTO_PATH.replace(\".jpg\", f\"_segm.jpg\"))), \n",
    "            img=global_thresholded)"
   ]
  },
  {
   "cell_type": "code",
   "execution_count": 46,
   "metadata": {},
   "outputs": [
    {
     "data": {
      "text/plain": [
       "True"
      ]
     },
     "execution_count": 46,
     "metadata": {},
     "output_type": "execute_result"
    }
   ],
   "source": [
    "filling_result = cv2.inpaint(img, global_thresholded, 300, cv2.INPAINT_TELEA)\n",
    "cv2.imwrite(filename=str(Path().joinpath(RESULT_FOLDER, PHOTO_PATH.replace(\".jpg\", \"_filled.jpg\"))), \n",
    "            img=filling_result)"
   ]
  },
  {
   "cell_type": "markdown",
   "metadata": {},
   "source": [
    "# przykład 3"
   ]
  },
  {
   "cell_type": "code",
   "execution_count": 9,
   "metadata": {},
   "outputs": [],
   "source": [
    "img = cv2.imread(PHOTO_PATH)"
   ]
  },
  {
   "cell_type": "code",
   "execution_count": 10,
   "metadata": {},
   "outputs": [],
   "source": [
    "damage_mask = np.zeros(img.shape[:2], dtype=np.uint8)"
   ]
  },
  {
   "cell_type": "code",
   "execution_count": 11,
   "metadata": {},
   "outputs": [],
   "source": [
    "marked_image = img.copy()\n",
    "marked_image[damage_mask > 0] = [0, 0, 255]"
   ]
  },
  {
   "cell_type": "code",
   "execution_count": 12,
   "metadata": {},
   "outputs": [
    {
     "data": {
      "text/plain": [
       "True"
      ]
     },
     "execution_count": 12,
     "metadata": {},
     "output_type": "execute_result"
    }
   ],
   "source": [
    "restored_image = cv2.inpaint(img, damage_mask, inpaintRadius=3, flags=cv2.INPAINT_TELEA)\n",
    "cv2.imwrite(filename=str(Path().joinpath(RESULT_FOLDER, PHOTO_PATH.replace(\".jpg\", \"_restored_by_example_3.jpg\"))), \n",
    "            img=filling_result)"
   ]
  }
 ],
 "metadata": {
  "kernelspec": {
   "display_name": ".venv",
   "language": "python",
   "name": "python3"
  },
  "language_info": {
   "codemirror_mode": {
    "name": "ipython",
    "version": 3
   },
   "file_extension": ".py",
   "mimetype": "text/x-python",
   "name": "python",
   "nbconvert_exporter": "python",
   "pygments_lexer": "ipython3",
   "version": "3.11.3"
  }
 },
 "nbformat": 4,
 "nbformat_minor": 2
}
